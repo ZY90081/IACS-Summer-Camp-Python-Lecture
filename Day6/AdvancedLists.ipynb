{
 "cells": [
  {
   "cell_type": "markdown",
   "metadata": {},
   "source": [
    "# Advanced Lists"
   ]
  },
  {
   "cell_type": "markdown",
   "metadata": {},
   "source": [
    "Having a built-in list type is one of the many strengths of Python. In this notebook we'll talk about some of the more advanced features of lists."
   ]
  },
  {
   "cell_type": "markdown",
   "metadata": {},
   "source": [
    "## List Comprehension"
   ]
  },
  {
   "cell_type": "markdown",
   "metadata": {},
   "source": [
    "We have seen several different ways of creating lists in Python. Many of these can be found in most modern programming languages. However, Python has its own unique way of quickly creating lists: *list comprehension*."
   ]
  },
  {
   "cell_type": "markdown",
   "metadata": {},
   "source": [
    "Though you don't need to be familiar with mathematical set notation to understand list comprehension, those who are familiar will benefit from the comparison. For this reason, we've included a little bit below. The list we'll be making can be written in set notation as the following:  \n",
    "$$ S = \\{ 2n \\; \\mbox{|} \\; n \\in \\{0,1,2,...,20\\} \\} $$"
   ]
  },
  {
   "cell_type": "markdown",
   "metadata": {},
   "source": [
    "This is read as '2n such that n is in the set of integers from 0 to 20'. Ultimately this is the set of even numbers from 0 to 40. How would we make this list in Python using the tools we already have?"
   ]
  },
  {
   "cell_type": "code",
   "execution_count": 1,
   "metadata": {},
   "outputs": [
    {
     "name": "stdout",
     "output_type": "stream",
     "text": [
      "[0, 2, 4, 6, 8, 10, 12, 14, 16, 18, 20, 22, 24, 26, 28, 30, 32, 34, 36, 38, 40]\n"
     ]
    }
   ],
   "source": [
    "the_list = []\n",
    "\n",
    "# There are many ways to do this, but we've chosen one below.\n",
    "for i in range(41):        # Loop from 0 to 40\n",
    "    if i % 2 == 0:         # if i is even,...\n",
    "        the_list.append(i) # ...append it to our list\n",
    "        \n",
    "print(the_list)"
   ]
  },
  {
   "cell_type": "markdown",
   "metadata": {},
   "source": [
    "List comprehension provides a more succinct way to do this. What took us `4` or `5` lines of code above can actually be done in a single line. Below we create the same list using list comprehension:"
   ]
  },
  {
   "cell_type": "code",
   "execution_count": 2,
   "metadata": {},
   "outputs": [
    {
     "name": "stdout",
     "output_type": "stream",
     "text": [
      "[0, 2, 4, 6, 8, 10, 12, 14, 16, 18, 20, 22, 24, 26, 28, 30, 32, 34, 36, 38, 40]\n"
     ]
    }
   ],
   "source": [
    "the_new_list = []\n",
    "for i in range(21):\n",
    "    the_new_list.append(2*i)\n",
    "print(the_new_list)"
   ]
  },
  {
   "cell_type": "code",
   "execution_count": 3,
   "metadata": {},
   "outputs": [
    {
     "name": "stdout",
     "output_type": "stream",
     "text": [
      "[0, 2, 4, 6, 8, 10, 12, 14, 16, 18, 20, 22, 24, 26, 28, 30, 32, 34, 36, 38, 40]\n"
     ]
    }
   ],
   "source": [
    "the_new_list = [2 * x for x in range(21)] # compare this line to the set notation written above\n",
    "print(the_new_list)"
   ]
  },
  {
   "cell_type": "markdown",
   "metadata": {},
   "source": [
    "The basic syntax of a list comprehension is \n",
    "\n",
    " \\[*`modified_iter_item`* **`for`** *`iter_item`* **`in`** *`iterable`*\\]\n",
    "\n",
    "What will the following codes do?"
   ]
  },
  {
   "cell_type": "code",
   "execution_count": 4,
   "metadata": {},
   "outputs": [
    {
     "name": "stdout",
     "output_type": "stream",
     "text": [
      "['H', 'e', 'l', 'l', 'o', '!']\n"
     ]
    }
   ],
   "source": [
    "print([i for i in \"Hello!\"])"
   ]
  },
  {
   "cell_type": "code",
   "execution_count": 5,
   "metadata": {},
   "outputs": [
    {
     "name": "stdout",
     "output_type": "stream",
     "text": [
      "[5, 10, 12]\n"
     ]
    }
   ],
   "source": [
    "print([len(i) for i in [\"Hello\", \"Hey there!\", \"How are you?\"]])"
   ]
  },
  {
   "cell_type": "code",
   "execution_count": 6,
   "metadata": {},
   "outputs": [
    {
     "name": "stdout",
     "output_type": "stream",
     "text": [
      "[8, 8, 8, 8, 8, 8, 8, 8]\n"
     ]
    }
   ],
   "source": [
    "print([8 for i in range(8)])"
   ]
  },
  {
   "cell_type": "code",
   "execution_count": 7,
   "metadata": {},
   "outputs": [
    {
     "name": "stdout",
     "output_type": "stream",
     "text": [
      "[1, 1, 1, 1, 1, 1, 1, 1]\n"
     ]
    }
   ],
   "source": [
    "print([1 for i in range(8)])"
   ]
  },
  {
   "cell_type": "markdown",
   "metadata": {},
   "source": [
    "What else can we do with list comprehensions? The above could be extended to multiples of any number."
   ]
  },
  {
   "cell_type": "code",
   "execution_count": 8,
   "metadata": {},
   "outputs": [
    {
     "name": "stdout",
     "output_type": "stream",
     "text": [
      "[0, 3, 6, 9, 12, 15, 18, 21, 24, 27, 30, 33, 36, 39, 42, 45, 48, 51, 54, 57, 60]\n"
     ]
    }
   ],
   "source": [
    "print([3 * x for x in range(21)])"
   ]
  },
  {
   "cell_type": "code",
   "execution_count": 9,
   "metadata": {},
   "outputs": [
    {
     "name": "stdout",
     "output_type": "stream",
     "text": [
      "0\n",
      "1\n",
      "2\n",
      "3\n",
      "4\n",
      "5\n",
      "6\n",
      "7\n",
      "8\n",
      "9\n",
      "10\n",
      "11\n",
      "12\n",
      "13\n",
      "14\n",
      "15\n",
      "16\n",
      "17\n",
      "18\n",
      "19\n",
      "20\n"
     ]
    }
   ],
   "source": [
    "for i in range(21):\n",
    "    print(i)"
   ]
  },
  {
   "cell_type": "markdown",
   "metadata": {},
   "source": [
    "We can add an if statement to the end of our list comprehension as a sort of *filter* to further control which values get added to our list. Here we will print the odd members of `range(21)`. First we tell Python to make a list of all integers from 0 to 20, but tell it to only include numbers that satisfy the condition of being odd."
   ]
  },
  {
   "cell_type": "code",
   "execution_count": 10,
   "metadata": {},
   "outputs": [
    {
     "name": "stdout",
     "output_type": "stream",
     "text": [
      "[1, 3, 5, 7, 9, 11, 13, 15, 17, 19]\n"
     ]
    }
   ],
   "source": [
    "print([x for x in range(21) if x % 2 != 0])\n",
    "       # make list            # but only if odd"
   ]
  },
  {
   "cell_type": "markdown",
   "metadata": {},
   "source": [
    "We can do some fairly intricate things by combining the basic commands `for x in` and `if`. For example:"
   ]
  },
  {
   "cell_type": "code",
   "execution_count": 11,
   "metadata": {},
   "outputs": [
    {
     "name": "stdout",
     "output_type": "stream",
     "text": [
      "[0, 143, 286, 429, 572, 715, 858]\n"
     ]
    }
   ],
   "source": [
    "print([x for x in range(1001) if x % 11 == 0 and x % 13 == 0 ])"
   ]
  },
  {
   "cell_type": "markdown",
   "metadata": {},
   "source": [
    "What did this do? We printed all the numbers less than 1001 that are multiples of both 11 and 13."
   ]
  },
  {
   "cell_type": "markdown",
   "metadata": {},
   "source": [
    "Here's another more intricate example that uses a list comprehension to replace nested for loops."
   ]
  },
  {
   "cell_type": "code",
   "execution_count": 12,
   "metadata": {},
   "outputs": [
    {
     "name": "stdout",
     "output_type": "stream",
     "text": [
      "list a: [0, 1, 2, 3, 4, 1, 2, 3, 4, 5, 2, 3, 4, 5, 6, 3, 4, 5, 6, 7, 4, 5, 6, 7, 8]\n",
      "list b: [0, 1, 2, 3, 4, 1, 2, 3, 4, 5, 2, 3, 4, 5, 6, 3, 4, 5, 6, 7, 4, 5, 6, 7, 8]\n",
      "True\n"
     ]
    }
   ],
   "source": [
    "a = [x + y for x in range(5) for y in range(5)]\n",
    "\n",
    "b = []\n",
    "for x in range(5):\n",
    "    for y in range(5):\n",
    "        b.append(x + y)\n",
    "        \n",
    "print(\"list a:\", a)\n",
    "print(\"list b:\", b)\n",
    "print(a == b)"
   ]
  },
  {
   "cell_type": "markdown",
   "metadata": {},
   "source": [
    "In summary, list comprehension is a technique that allows you to quickly make lists on the fly, using fewer temporary variables and fewer lines of code. If the structure isn't intuitive for you now, that's OK. Everything we did using list comprehensions you can also do using regular loops. However for those who code often, list comprehensions can be a neat trick that can in some cases can significanly speed up your code (as they tend to be more computationally efficient).\n",
    "\n",
    "\n",
    "## Practice Problems\n",
    "\n",
    "Create a list of strings that say `n is even`, where `n` is every even number in a given range. For example:\n",
    "* Input: `10`\n",
    "* Output: \\[`0 is even`, `2 is even`, `4 is even`, `6 is even`, `8 is even`, `10 is even`\\]"
   ]
  },
  {
   "cell_type": "code",
   "execution_count": 18,
   "metadata": {},
   "outputs": [
    {
     "name": "stdout",
     "output_type": "stream",
     "text": [
      "['0 is even', '2 is even', '4 is even', '6 is even', '8 is even', '10 is even']\n"
     ]
    }
   ],
   "source": [
    "def createlist(n):\n",
    "    newlist = [x for x in range(n+1) if x % 2 == 0]\n",
    "    output = [str(x)+' is even' for x in newlist]\n",
    "    print(output)\n",
    "\n",
    "createlist(10)"
   ]
  },
  {
   "cell_type": "markdown",
   "metadata": {},
   "source": [
    "If we list all the natural numbers below 10 that are multiples of 3 or 5, we get \\[3, 5 ,6 , 9\\]. The sum of these multiples is `23`. Using a list comprehension, find the sum of all the multiples of 3 or 5 below 1000. (The problem is from [projecteuler.net](projecteuler.net)). *Hint*: we can find the sum of a list using the function `sum`. "
   ]
  },
  {
   "cell_type": "code",
   "execution_count": 23,
   "metadata": {},
   "outputs": [
    {
     "name": "stdout",
     "output_type": "stream",
     "text": [
      "[3, 5, 6, 9, 10, 12, 15, 18, 20, 21, 24, 25, 27, 30, 33, 35, 36, 39, 40, 42, 45, 48, 50, 51, 54, 55, 57, 60, 63, 65, 66, 69, 70, 72, 75, 78, 80, 81, 84, 85, 87, 90, 93, 95, 96, 99, 100, 102, 105, 108, 110, 111, 114, 115, 117, 120, 123, 125, 126, 129, 130, 132, 135, 138, 140, 141, 144, 145, 147, 150, 153, 155, 156, 159, 160, 162, 165, 168, 170, 171, 174, 175, 177, 180, 183, 185, 186, 189, 190, 192, 195, 198, 200, 201, 204, 205, 207, 210, 213, 215, 216, 219, 220, 222, 225, 228, 230, 231, 234, 235, 237, 240, 243, 245, 246, 249, 250, 252, 255, 258, 260, 261, 264, 265, 267, 270, 273, 275, 276, 279, 280, 282, 285, 288, 290, 291, 294, 295, 297, 300, 303, 305, 306, 309, 310, 312, 315, 318, 320, 321, 324, 325, 327, 330, 333, 335, 336, 339, 340, 342, 345, 348, 350, 351, 354, 355, 357, 360, 363, 365, 366, 369, 370, 372, 375, 378, 380, 381, 384, 385, 387, 390, 393, 395, 396, 399, 400, 402, 405, 408, 410, 411, 414, 415, 417, 420, 423, 425, 426, 429, 430, 432, 435, 438, 440, 441, 444, 445, 447, 450, 453, 455, 456, 459, 460, 462, 465, 468, 470, 471, 474, 475, 477, 480, 483, 485, 486, 489, 490, 492, 495, 498, 500, 501, 504, 505, 507, 510, 513, 515, 516, 519, 520, 522, 525, 528, 530, 531, 534, 535, 537, 540, 543, 545, 546, 549, 550, 552, 555, 558, 560, 561, 564, 565, 567, 570, 573, 575, 576, 579, 580, 582, 585, 588, 590, 591, 594, 595, 597, 600, 603, 605, 606, 609, 610, 612, 615, 618, 620, 621, 624, 625, 627, 630, 633, 635, 636, 639, 640, 642, 645, 648, 650, 651, 654, 655, 657, 660, 663, 665, 666, 669, 670, 672, 675, 678, 680, 681, 684, 685, 687, 690, 693, 695, 696, 699, 700, 702, 705, 708, 710, 711, 714, 715, 717, 720, 723, 725, 726, 729, 730, 732, 735, 738, 740, 741, 744, 745, 747, 750, 753, 755, 756, 759, 760, 762, 765, 768, 770, 771, 774, 775, 777, 780, 783, 785, 786, 789, 790, 792, 795, 798, 800, 801, 804, 805, 807, 810, 813, 815, 816, 819, 820, 822, 825, 828, 830, 831, 834, 835, 837, 840, 843, 845, 846, 849, 850, 852, 855, 858, 860, 861, 864, 865, 867, 870, 873, 875, 876, 879, 880, 882, 885, 888, 890, 891, 894, 895, 897, 900, 903, 905, 906, 909, 910, 912, 915, 918, 920, 921, 924, 925, 927, 930, 933, 935, 936, 939, 940, 942, 945, 948, 950, 951, 954, 955, 957, 960, 963, 965, 966, 969, 970, 972, 975, 978, 980, 981, 984, 985, 987, 990, 993, 995, 996, 999]\n",
      "233168\n"
     ]
    }
   ],
   "source": [
    "newlist = [x for x in range(1,1000) if x%3==0 or x%5==0]\n",
    "print(newlist)\n",
    "print(sum(newlist))"
   ]
  },
  {
   "cell_type": "markdown",
   "metadata": {},
   "source": [
    "Using a list comprehension, create a new list made up of words from word from a given list that either start with a capital letter, or start with `a` and have exactly `5` characters. For example:\n",
    "\n",
    "* Input: \\[`jess`, `Ayla`, `Sanket`, `alena`, `jimmy`\\]\n",
    "* Output: \\[`Ayla`, `Sanket`, `alena`\\]"
   ]
  },
  {
   "cell_type": "code",
   "execution_count": null,
   "metadata": {},
   "outputs": [],
   "source": [
    "def createlist(oldlist):\n",
    "    newlist = [word for word in oldlist if (word[0]>='A' and word[0]<='Z') or (word[0]=='a' and len(word)==5)]\n",
    "    return newlist\n",
    "\n",
    "oldlist = ['jess', 'Ayla', 'Sanket', 'alena, jimmy]\n",
    "print()\n",
    "    "
   ]
  },
  {
   "cell_type": "code",
   "execution_count": null,
   "metadata": {},
   "outputs": [],
   "source": []
  }
 ],
 "metadata": {
  "kernelspec": {
   "display_name": "Python 3",
   "language": "python",
   "name": "python3"
  },
  "language_info": {
   "codemirror_mode": {
    "name": "ipython",
    "version": 3
   },
   "file_extension": ".py",
   "mimetype": "text/x-python",
   "name": "python",
   "nbconvert_exporter": "python",
   "pygments_lexer": "ipython3",
   "version": "3.8.3"
  }
 },
 "nbformat": 4,
 "nbformat_minor": 2
}
