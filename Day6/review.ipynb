{
 "cells": [
  {
   "cell_type": "markdown",
   "metadata": {},
   "source": [
    "# Day 5 Review\n",
    "\n",
    "On day 5, we looked at dictionaries, errors & exceptions and advanced functions."
   ]
  },
  {
   "cell_type": "markdown",
   "metadata": {},
   "source": [
    "## Dictionaries"
   ]
  },
  {
   "cell_type": "code",
   "execution_count": null,
   "metadata": {},
   "outputs": [],
   "source": [
    "# Define an empty dictionary \n",
    "empty_dict = dict()\n",
    "# Can also do it this way\n",
    "another_empty_dict = {}\n",
    "print(empty_dict)\n",
    "print(another_empty_dict)"
   ]
  },
  {
   "cell_type": "code",
   "execution_count": null,
   "metadata": {},
   "outputs": [],
   "source": [
    "# Define a dictionary from a list of keys and values\n",
    "house_dict = {'Gryffindor': 'red',\n",
    "              'Ravenclaw': 'blue',\n",
    "              'Slytherin': 'green',\n",
    "              'Hufflepuff': 'yellow'}\n",
    "house_dict"
   ]
  },
  {
   "cell_type": "code",
   "execution_count": null,
   "metadata": {},
   "outputs": [],
   "source": [
    "# access an element\n",
    "house_dict['Gryffindor']"
   ]
  },
  {
   "cell_type": "code",
   "execution_count": null,
   "metadata": {},
   "outputs": [],
   "source": [
    "# add an element\n",
    "house_dict['Thunderbird'] = 'purple'\n",
    "house_dict"
   ]
  },
  {
   "cell_type": "code",
   "execution_count": null,
   "metadata": {},
   "outputs": [],
   "source": [
    "# iterate over keys\n",
    "for k in house_dict.keys():\n",
    "    print(k)"
   ]
  },
  {
   "cell_type": "code",
   "execution_count": null,
   "metadata": {},
   "outputs": [],
   "source": [
    "# iterate over values\n",
    "for v in house_dict.values():\n",
    "    print(v)"
   ]
  },
  {
   "cell_type": "code",
   "execution_count": null,
   "metadata": {},
   "outputs": [],
   "source": [
    "# iterate over items\n",
    "for k, v in house_dict.items():\n",
    "    print(k, v)"
   ]
  },
  {
   "cell_type": "code",
   "execution_count": null,
   "metadata": {},
   "outputs": [],
   "source": [
    "# test if something is in a dictionary\n",
    "print('Gryffindor' in house_dict)\n",
    "print('red' in house_dict) # note this checks the keys, not the values!\n",
    "print('green' in house_dict.values())"
   ]
  },
  {
   "cell_type": "markdown",
   "metadata": {},
   "source": [
    "## Errors & exceptions"
   ]
  },
  {
   "cell_type": "code",
   "execution_count": null,
   "metadata": {},
   "outputs": [],
   "source": [
    "# use an assert statement to check before things go wrong \n",
    "import math\n",
    "\n",
    "def sqrt(n):\n",
    "    assert n >=0, 'n must be greater than 0!' # make sure to provide a helpful message!\n",
    "    \n",
    "    return math.sqrt(n)"
   ]
  },
  {
   "cell_type": "code",
   "execution_count": null,
   "metadata": {},
   "outputs": [],
   "source": [
    "sqrt(4)"
   ]
  },
  {
   "cell_type": "code",
   "execution_count": null,
   "metadata": {},
   "outputs": [],
   "source": [
    "sqrt(-3)"
   ]
  },
  {
   "cell_type": "code",
   "execution_count": null,
   "metadata": {},
   "outputs": [],
   "source": [
    "# use a try block to smoothly handle when things go wrong\n",
    "\n",
    "def sqrt_or_zero(n):\n",
    "    try:\n",
    "        return math.sqrt(n)\n",
    "    except ValueError: # if math.sqrt is given a negative number, it will raise this\n",
    "        return 0"
   ]
  },
  {
   "cell_type": "code",
   "execution_count": null,
   "metadata": {},
   "outputs": [],
   "source": [
    "sqrt_or_zero(845)"
   ]
  },
  {
   "cell_type": "code",
   "execution_count": null,
   "metadata": {},
   "outputs": [],
   "source": [
    "sqrt_or_zero(-12.2356)"
   ]
  },
  {
   "cell_type": "markdown",
   "metadata": {},
   "source": [
    "## Advanced functions"
   ]
  },
  {
   "cell_type": "markdown",
   "metadata": {},
   "source": [
    "This silly example shows that you should always remember about **scope** within your code and be particularly careful with naming conflicts."
   ]
  },
  {
   "cell_type": "code",
   "execution_count": null,
   "metadata": {},
   "outputs": [],
   "source": [
    "b = 23\n",
    "\n",
    "print('At the start, b is {}'.format(b))\n",
    "\n",
    "# the b that this function takes as an argument is not the same as the variable \n",
    "# b which I just defined, but its own private variable that shall exist within \n",
    "# the body of the function\n",
    "def all_the_bs(b):\n",
    "    print('b is {}'.format(b))\n",
    "    \n",
    "    # by using b in this for loop, I'm essentially reassigning \n",
    "    # this variable. It now has lost all memory of its value before \n",
    "    # the for loop. \n",
    "    for b in range(4):\n",
    "        print('and now b is {}'.format(b))\n",
    "    \n",
    "    # here I'm defining a function within a function(!)\n",
    "    # the b it takes as its argument is its own private variable\n",
    "    # and is not the same as the variable b used in the outer functon\n",
    "    def nested_b(b):\n",
    "        print('b in the nest is {}'.format(b))\n",
    "    \n",
    "    nested_b(5)\n",
    "    \n",
    "    # this is the value it had at the end of the for loop\n",
    "    print('b is now {}'.format(b))\n",
    "    \n",
    "    b = 6\n",
    "    \n",
    "    # I've now redefined b so it takes this value\n",
    "    print('at the end of the function b is {}'.format(b))\n",
    "    \n",
    "all_the_bs(17)\n",
    "\n",
    "# this is the value of b that I assigned right at the start\n",
    "print('and finally b is {}'.format(b))"
   ]
  },
  {
   "cell_type": "code",
   "execution_count": null,
   "metadata": {},
   "outputs": [],
   "source": [
    "# if I want to give some inputs default values, I can use keyword arguments\n",
    "def pow(a, n=2):\n",
    "    # calculate a to the power of n\n",
    "    return a**n"
   ]
  },
  {
   "cell_type": "code",
   "execution_count": null,
   "metadata": {},
   "outputs": [],
   "source": [
    "# this uses the default value of n\n",
    "pow(2)"
   ]
  },
  {
   "cell_type": "code",
   "execution_count": null,
   "metadata": {},
   "outputs": [],
   "source": [
    "pow(2,2)"
   ]
  },
  {
   "cell_type": "code",
   "execution_count": null,
   "metadata": {},
   "outputs": [],
   "source": [
    "pow(2,6)"
   ]
  },
  {
   "cell_type": "code",
   "execution_count": null,
   "metadata": {},
   "outputs": [],
   "source": [
    "# problems can be solved using recursion by calling functions from themselves\n",
    "def am_i_prime(n, divisor=2):\n",
    "    assert type(n) == int, 'This only works for integers!'\n",
    "    if divisor > n/2:\n",
    "        print('I am prime!')\n",
    "        return True\n",
    "    elif n / divisor % 1 == 0:\n",
    "        print('I can be divided by {} so am not prime'.format(divisor))\n",
    "        return False\n",
    "    else:\n",
    "        return am_i_prime(n, divisor+1)"
   ]
  }
 ],
 "metadata": {
  "kernelspec": {
   "display_name": "Python 3",
   "language": "python",
   "name": "python3"
  },
  "language_info": {
   "codemirror_mode": {
    "name": "ipython",
    "version": 3
   },
   "file_extension": ".py",
   "mimetype": "text/x-python",
   "name": "python",
   "nbconvert_exporter": "python",
   "pygments_lexer": "ipython3",
   "version": "3.8.8"
  }
 },
 "nbformat": 4,
 "nbformat_minor": 2
}
