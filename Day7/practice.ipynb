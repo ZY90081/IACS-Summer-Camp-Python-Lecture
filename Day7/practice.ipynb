{
 "cells": [
  {
   "cell_type": "code",
   "execution_count": null,
   "metadata": {},
   "outputs": [],
   "source": [
    "# Suppose you are a data scientist, who is interested in taking data from various research institutes and\n",
    "# analyzing it for trends and making pretty plots that highlight and support your findings. Use the data\n",
    "#from University of Alabama, Huntsville to do some analysis! \n",
    "\n",
    "#About the data:\n",
    "\n",
    "#The data (UAH_data.txt), represents the deviation or anomalyfrom the average temperature between years \n",
    "# 1979-2019 for each of  the 12 months in a year. The regions covered across the globe and their  respective \n",
    "# latitudes in the dataset are: \n",
    "\n",
    "# Global (GL)                          90S-90N \n",
    "# Northern Hemisphere (NH)              0-90N\n",
    "# Southern Hemisphere  (SH)             90S-0 \n",
    "# Tropics (TRPCS)                       20S-20N\n",
    "# Northern Extent (NoExt)               20N-90N \n",
    "# Souther Extent (SoExt)                90S-20S\n",
    "# North Pole (NoPol)                    60N-90N\n",
    "# South Pole (SoPol)                    90S-60S\n",
    "\n",
    "# where USA48 represents the 48 contiguous state in the US and US49 represents all the contiguous states plus Alaska."
   ]
  },
  {
   "cell_type": "code",
   "execution_count": null,
   "metadata": {},
   "outputs": [],
   "source": [
    "# Task 1. Read in the data into an appropriate data structure.\n",
    "# You might have to \"clean\" the data!\n",
    "# Hint: You need to ignore/remove the files at the bottom!"
   ]
  },
  {
   "cell_type": "code",
   "execution_count": null,
   "metadata": {},
   "outputs": [],
   "source": [
    "#Task 2. Visualization and Analysis  (Make plots for each part!)\n",
    "\n",
    "#Note: Please make sure that the graphs are well labeled.\n",
    "\n",
    "#You can use the following webpage as a reference for creating nice plots:\n",
    "# https://python-graph-gallery.com."
   ]
  },
  {
   "cell_type": "code",
   "execution_count": null,
   "metadata": {},
   "outputs": [],
   "source": [
    "#a) Convince someone who is skeptical that the Earth is warming and that there has been an increase in yearly \n",
    "# average of the Global (GL) temperatures."
   ]
  },
  {
   "cell_type": "code",
   "execution_count": null,
   "metadata": {},
   "outputs": [],
   "source": [
    "#b) Their follow up is, “But that’s global, it’s not happening here in the US!”. Convince them that multiple \n",
    "# regions around the globe, including just the US are experiencing a warming trend."
   ]
  },
  {
   "cell_type": "code",
   "execution_count": null,
   "metadata": {},
   "outputs": [],
   "source": [
    "#c) Is the trend in warming increasing over the years (1979-2019) decreasing, increasing or staying about the \n",
    "#same?"
   ]
  }
 ],
 "metadata": {
  "kernelspec": {
   "display_name": "Python 3",
   "language": "python",
   "name": "python3"
  },
  "language_info": {
   "codemirror_mode": {
    "name": "ipython",
    "version": 3
   },
   "file_extension": ".py",
   "mimetype": "text/x-python",
   "name": "python",
   "nbconvert_exporter": "python",
   "pygments_lexer": "ipython3",
   "version": "3.7.0"
  }
 },
 "nbformat": 4,
 "nbformat_minor": 2
}
