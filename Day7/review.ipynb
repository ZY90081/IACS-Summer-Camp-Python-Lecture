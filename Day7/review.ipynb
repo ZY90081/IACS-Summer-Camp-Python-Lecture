{
 "cells": [
  {
   "cell_type": "markdown",
   "metadata": {},
   "source": [
    "# Day 6 Review\n",
    "\n",
    "On day 6, we looked at advanced lists and classes."
   ]
  },
  {
   "cell_type": "markdown",
   "metadata": {},
   "source": [
    "## Advanced lists"
   ]
  },
  {
   "cell_type": "code",
   "execution_count": 4,
   "metadata": {},
   "outputs": [
    {
     "name": "stdout",
     "output_type": "stream",
     "text": [
      "[0.0, 1.0, 1.2599210498948732, 1.4422495703074083, 1.5874010519681994, 1.7099759466766968, 1.8171205928321397, 1.912931182772389, 2.0, 2.080083823051904]\n",
      "[0.0, 1.0, 1.2599210498948732, 1.4422495703074083, 1.5874010519681994, 1.7099759466766968, 1.8171205928321397, 1.912931182772389, 2.0, 2.080083823051904]\n"
     ]
    }
   ],
   "source": [
    "# list comprehensions are fast, compact ways of making lists of things\n",
    "slow_list = []\n",
    "\n",
    "for i in range(10):\n",
    "    slow_list.append(i**(1/3))\n",
    "    \n",
    "print(slow_list)\n",
    "\n",
    "fast_list = [i**(1/3) for i in range(10)]\n",
    "print(fast_list)"
   ]
  },
  {
   "cell_type": "code",
   "execution_count": 7,
   "metadata": {},
   "outputs": [
    {
     "name": "stdout",
     "output_type": "stream",
     "text": [
      "[12, 18, 24, 30, 36]\n",
      "[12, 18, 24, 30, 36]\n"
     ]
    }
   ],
   "source": [
    "# we can be fancy and include if statements and even multiple loops\n",
    "# Explain what is happening below?\n",
    "print([i*2 for i in range(20) if i % 3 == 0 and i > 5])\n",
    "\n",
    "# longer way\n",
    "lst = []\n",
    "for i in range(20):\n",
    "    if i % 3 == 0 and i > 5:\n",
    "        lst.append(i * 2)\n",
    "print(lst)"
   ]
  },
  {
   "cell_type": "code",
   "execution_count": 8,
   "metadata": {},
   "outputs": [
    {
     "name": "stdout",
     "output_type": "stream",
     "text": [
      "[0, 2, 4, 1, 3, 5, 2, 4, 6, 3, 5, 7]\n",
      "[0, 2, 4, 1, 3, 5, 2, 4, 6, 3, 5, 7]\n"
     ]
    }
   ],
   "source": [
    "# write comments and figure out what this list is doing?\n",
    "print([a + b for a in range(4) for b in range(6) if b % 2 == 0])\n",
    "\n",
    "# longer way\n",
    "lst = []\n",
    "for a in range(4):\n",
    "    for b in range(6):\n",
    "        if b % 2 == 0:\n",
    "            lst.append(a + b)\n",
    "print(lst)"
   ]
  },
  {
   "cell_type": "code",
   "execution_count": null,
   "metadata": {},
   "outputs": [],
   "source": [
    "# Create a list that looks like this: [[1,1,1],[1,1,1],[1,1,1],[1,1,1]]\n",
    "# using list comprehension\n",
    "# without using list comprehension"
   ]
  },
  {
   "cell_type": "markdown",
   "metadata": {},
   "source": [
    "## Classes"
   ]
  },
  {
   "cell_type": "code",
   "execution_count": 2,
   "metadata": {},
   "outputs": [],
   "source": [
    "# define a class \n",
    "class Tree(object):\n",
    "    \n",
    "    # constructor\n",
    "    def __init__(self, species, age):\n",
    "        # member variables\n",
    "        self.species = species\n",
    "        self.age = age\n",
    "        self.leaf_color = 'green'\n",
    "        \n",
    "    # define a member function \n",
    "    def update_leaf_color(self, color):\n",
    "        self.leaf_color = color\n",
    "        \n",
    "    # define a string representation\n",
    "    def __str__(self):\n",
    "        return \"{} Tree, age = {}\".format(self.species, self.age)"
   ]
  },
  {
   "cell_type": "code",
   "execution_count": 7,
   "metadata": {},
   "outputs": [
    {
     "data": {
      "text/plain": [
       "'green'"
      ]
     },
     "execution_count": 7,
     "metadata": {},
     "output_type": "execute_result"
    }
   ],
   "source": [
    "# make a Tree object\n"
   ]
  },
  {
   "cell_type": "code",
   "execution_count": 25,
   "metadata": {},
   "outputs": [
    {
     "data": {
      "text/plain": [
       "'oak'"
      ]
     },
     "execution_count": 25,
     "metadata": {},
     "output_type": "execute_result"
    }
   ],
   "source": [
    "# access the member variables"
   ]
  },
  {
   "cell_type": "code",
   "execution_count": 5,
   "metadata": {},
   "outputs": [
    {
     "data": {
      "text/plain": [
       "'orange'"
      ]
     },
     "execution_count": 5,
     "metadata": {},
     "output_type": "execute_result"
    }
   ],
   "source": [
    "# make the leaf color lilac\n"
   ]
  },
  {
   "cell_type": "code",
   "execution_count": null,
   "metadata": {},
   "outputs": [],
   "source": [
    "# add a member variable that guesses the height of the tree and returns that value"
   ]
  }
 ],
 "metadata": {
  "kernelspec": {
   "display_name": "Python 3",
   "language": "python",
   "name": "python3"
  },
  "language_info": {
   "codemirror_mode": {
    "name": "ipython",
    "version": 3
   },
   "file_extension": ".py",
   "mimetype": "text/x-python",
   "name": "python",
   "nbconvert_exporter": "python",
   "pygments_lexer": "ipython3",
   "version": "3.7.0"
  }
 },
 "nbformat": 4,
 "nbformat_minor": 2
}
