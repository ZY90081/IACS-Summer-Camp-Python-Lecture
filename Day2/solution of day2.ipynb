{
 "cells": [
  {
   "cell_type": "markdown",
   "metadata": {},
   "source": [
    "# SOLUTION to Advanced Problems (Day2)"
   ]
  },
  {
   "cell_type": "markdown",
   "metadata": {},
   "source": [
    "# List"
   ]
  },
  {
   "cell_type": "markdown",
   "metadata": {},
   "source": [
    "*Standard Deviation*: Write some code that calculates the standard deviation of a list of numbers. The formula for the standard deviation is  \n",
    "  \n",
    "$$ \\sigma = \\sqrt{\\frac{1}{N-1} \\sum_{i = 1}^N(x_i - \\bar{x})^2}$$  \n",
    "  \n",
    "where $N$ is the number of elements in the list, $x_i$ is a particular element of the list, and $\\bar{x}$ is the average of the list of numbers. (Hint: you will need to calculate the average first).\n",
    "\n",
    "Test your code on the given list. The answer is approximately 31.23."
   ]
  },
  {
   "cell_type": "code",
   "execution_count": 1,
   "metadata": {},
   "outputs": [
    {
     "name": "stdout",
     "output_type": "stream",
     "text": [
      "31.234050875061563\n"
     ]
    }
   ],
   "source": [
    "test_list = [7, 39, 2, 56, 98, 74, 34, 17, 56, 88, 66, 0, 56, 34]\n",
    "\n",
    "N = len(test_list)  # number of data in list\n",
    "\n",
    "sum = 0             # initialize sum\n",
    "for num in test_list:\n",
    "    sum = sum + num # sum up all data\n",
    "avg = sum/N         # compute average\n",
    "\n",
    "dsum = 0;           # initialize sum of differences between data and their mean\n",
    "for num in test_list:\n",
    "    dsum = dsum + (num-avg)**2  # sum of the differences between data and their mean\n",
    "\n",
    "sigma = (dsum/(N-1))**0.5  # compute standard deviation\n",
    "print(sigma)"
   ]
  },
  {
   "cell_type": "markdown",
   "metadata": {},
   "source": [
    "*Median*: Write some code that calculates the median of a list of numbers. The answer for test_list is 47.5."
   ]
  },
  {
   "cell_type": "code",
   "execution_count": 2,
   "metadata": {},
   "outputs": [
    {
     "name": "stdout",
     "output_type": "stream",
     "text": [
      "47.5\n"
     ]
    }
   ],
   "source": [
    "test_list = [7, 39, 2, 56, 98, 74, 34, 17, 56, 88, 66, 0, 56, 34]\n",
    "\n",
    "N = len(test_list)  # number of data in list\n",
    "\n",
    "new_list = sorted(test_list)   # sort list and save it as a new list\n",
    "\n",
    "if N % 2 == 0:                 # if number of data is even\n",
    "    median = (new_list[N//2] + new_list[N//2-1])/2   # median is the mean of the two data in the middle\n",
    "else:                          # if number of data is odd\n",
    "    median = new_list(N//2)    # median is the middle data\n",
    "    \n",
    "print(median)"
   ]
  },
  {
   "cell_type": "markdown",
   "metadata": {},
   "source": [
    "*Mode*: Write some code that calculates the mode of a list of numbers. The answer for test_list is 56."
   ]
  },
  {
   "cell_type": "code",
   "execution_count": 7,
   "metadata": {},
   "outputs": [
    {
     "name": "stdout",
     "output_type": "stream",
     "text": [
      "56\n"
     ]
    }
   ],
   "source": [
    "test_list = [7, 39, 2, 56, 98, 74, 34, 17, 56, 88, 66, 0, 56, 34]\n",
    "\n",
    "unique_num = sorted(list(set(test_list)))   # get unique number in list\n",
    "\n",
    "Mcount = 0                    # initialize maximum frequency as zero\n",
    "for num in unique_num:        # for each unique numer\n",
    "    count = 0                 # initial count as zero\n",
    "    for data in test_list:\n",
    "        if data == num:\n",
    "            count +=1         # compute the frequency of the unique number appeared in list\n",
    "    \n",
    "    if count > Mcount:        # if current frequency is larger\n",
    "        Mcount = count        # update the maximum frequency\n",
    "        mode = num            # save the corresponding data\n",
    "        \n",
    "print(mode)"
   ]
  },
  {
   "cell_type": "markdown",
   "metadata": {},
   "source": [
    "# For Loop"
   ]
  },
  {
   "cell_type": "markdown",
   "metadata": {},
   "source": [
    "*Minimum*: Write some code that takes a list of numbers as input and returns the index of the smallest (most negative) number in the list. For example, given the list [4,7,-5,9,1,-2,6,4], the code would print 2. (*Hint*: If you're having trouble, try first writing some code that finds the minimum *number* itself. For the given example, the answer would be -5. Then modify your solution to instead find the index.)"
   ]
  },
  {
   "cell_type": "code",
   "execution_count": 9,
   "metadata": {},
   "outputs": [
    {
     "name": "stdout",
     "output_type": "stream",
     "text": [
      "2\n"
     ]
    }
   ],
   "source": [
    "numlist = [4,7,-5,9,1,-2,6,4]\n",
    "\n",
    "#for i in sorted(enumerate(numlist),key=lambda x: x[1]):     # This code is for the testing\n",
    "#    print(i)\n",
    "    \n",
    "newlist = sorted(enumerate(numlist),key=lambda x: x[1])\n",
    "print(newlist[0][0])                                         # print the first element of the first cell"
   ]
  },
  {
   "cell_type": "markdown",
   "metadata": {},
   "source": [
    "*Sorting*: Write some code that takes a list of numbers as input and returns a new list that contains the same numbers, but in increasing order (from least to greatest). If you did the problem above, then you can use that function in your solution to this problem. Otherwise, you can use the `.index()` and `min()` functions, as demonstrated in the example below:"
   ]
  },
  {
   "cell_type": "code",
   "execution_count": 10,
   "metadata": {},
   "outputs": [
    {
     "data": {
      "text/plain": [
       "2"
      ]
     },
     "execution_count": 10,
     "metadata": {},
     "output_type": "execute_result"
    }
   ],
   "source": [
    "mylist = [4,7,-5,9,1,-2,6,4]\n",
    "mylist.index(min(mylist))       # min finds the lowest number, and mylist.index() finds \n",
    "                                # the first index of that number"
   ]
  },
  {
   "cell_type": "code",
   "execution_count": 11,
   "metadata": {},
   "outputs": [
    {
     "name": "stdout",
     "output_type": "stream",
     "text": [
      "[-5, -2, 1, 4, 4, 6, 7, 9]\n"
     ]
    }
   ],
   "source": [
    "# You can write your solution to the Sorting problem here:\n",
    "\n",
    "newlist = []\n",
    "for i in sorted(enumerate(numlist),key=lambda x: x[1]):\n",
    "    newlist.append(i[1])\n",
    "    \n",
    "print(newlist)    "
   ]
  },
  {
   "cell_type": "markdown",
   "metadata": {},
   "source": [
    "# Practice"
   ]
  },
  {
   "cell_type": "markdown",
   "metadata": {},
   "source": [
    "### Staircase\n",
    "\n",
    "For a given $n$, print the corresponding staircase made out of hash symbols. For example, if $n=6$, we should get:\n",
    "\n",
    "```\n",
    "#\n",
    "##\n",
    "###\n",
    "####\n",
    "#####\n",
    "######\n",
    "```"
   ]
  },
  {
   "cell_type": "code",
   "execution_count": 27,
   "metadata": {},
   "outputs": [
    {
     "name": "stdout",
     "output_type": "stream",
     "text": [
      "#\n",
      "##\n",
      "###\n",
      "####\n",
      "#####\n",
      "######\n",
      "#######\n"
     ]
    }
   ],
   "source": [
    "n = 7     # give any num greater than 0\n",
    "for row in range(n):                                    # for each row\n",
    "    [print('#',end=\"\") for num in range(row+1)]         # print num=row hash symbols\n",
    "    print(\"\")                                           # next line"
   ]
  },
  {
   "cell_type": "markdown",
   "metadata": {},
   "source": [
    "## Data cleaning\n",
    "\n",
    "When scientists perform experiments, the data that they collect needs to be processed before it can be analyzed. Sometimes the detector may not be working, it might be cloudy so the telescope can't see anything, or the scientist may go to get a coffee and miss a reading. Sometimes things interfere with the readings, leading the strange, *anomalous* readings that are far outside the range of expected values. Before any analysis is performed, the data must therefore be *cleaned* to remove any missing or anomalous values.\n",
    "\n",
    "In this exercise, we're going to pretend that we've collected some readings of the brightness of a star that we observed using Mount Stony Brook every evening for four weeks. Unfortunately, on a few of those nights it was cloudy, so no reading was taken. In this case, the brightness is recorded as `0`. On a few other nights, the flood lights at the nearby football stadium were turned on, leading to light contamination which produced anomalously large readings. On one night, an anomalously small reading was recorded (maybe the person taking the reading put the decimal point in the wrong place??). \n",
    "\n",
    "Before we can analyze our data to work out how bright the star is, we will therefore need to clean it. \n",
    "\n",
    "To do this, create a new list which does not contain any values which are 0, or much smaller/larger than would reasonably be expected. Decide for yourself what to consider to be anomalously small/large values. You should create the new list by using a for loop to iterate over the elements of the list, adding any values which satisfy the criteria to your new list. "
   ]
  },
  {
   "cell_type": "code",
   "execution_count": 28,
   "metadata": {},
   "outputs": [],
   "source": [
    "data = [105.77696802, 110.406054  , 106.36737707,  95.02908826,\n",
    "        84.13182033,  0, 0, 101.47121241,\n",
    "       106.07343453,  90.65935074,  93.66283734, 102.19944747,\n",
    "        82.82894661, 102.20360106, 102.29047846, 596.23884439,\n",
    "       104.03586589,  99.09490557,  76.09848805, 114.83901321,\n",
    "        86.5806938 , 497.74438934,  9.891387187, 506.57861168,\n",
    "       101.61619984,  92.62959516,  0,  90.04324646]"
   ]
  },
  {
   "cell_type": "code",
   "execution_count": 37,
   "metadata": {},
   "outputs": [
    {
     "name": "stdout",
     "output_type": "stream",
     "text": [
      "[105.77696802, 110.406054, 106.36737707, 95.02908826, 84.13182033, 101.47121241, 106.07343453, 90.65935074, 93.66283734, 102.19944747, 82.82894661, 102.20360106, 102.29047846, 596.23884439, 104.03586589, 99.09490557, 76.09848805, 114.83901321, 86.5806938, 497.74438934, 9.891387187, 506.57861168, 101.61619984, 92.62959516, 90.04324646]\n",
      "[105.77696802, 110.406054, 106.36737707, 95.02908826, 84.13182033, 101.47121241, 106.07343453, 90.65935074, 93.66283734, 102.19944747, 82.82894661, 102.20360106, 102.29047846, 104.03586589, 99.09490557, 114.83901321, 86.5806938, 101.61619984, 92.62959516, 90.04324646]\n"
     ]
    }
   ],
   "source": [
    "# create your clean data here\n",
    "# Here, we simply consider the outlier criterion by using Interquartile Range\n",
    "# The interquartile range, often abbreviated IQR, is the difference between the \n",
    "# 25th percentile (Q1) and the 75th percentile (Q3) in a dataset. It measures \n",
    "# the spread of the middle 50% of values. One popular method is to declare an \n",
    "# observation to be an outlier if it has a value 1.5 times greater than the IQR \n",
    "# or 1.5 times less than the IQR.\n",
    "\n",
    "# First step: Remove zeros\n",
    "nonzero_data = []\n",
    "for num in data:\n",
    "    if num != 0:\n",
    "        nonzero_data.append(num)\n",
    "        \n",
    "print(nonzero_data)\n",
    "\n",
    "# Second step: find Q1, Q3 and Q3-Q1\n",
    "N = len(nonzero_data)  # number of data in list\n",
    "index_q1 = int(N*0.25)\n",
    "index_q3 = int(N*0.75)\n",
    "IQR = nonzero_data[index_q3-1] - nonzero_data[index_q1-1]\n",
    "\n",
    "# Thrid step: find the boundries Q1-1.5IQR and Q3+1.5IQR\n",
    "low_bound = nonzero_data[index_q1-1] - 1.5*IQR\n",
    "up_bound = nonzero_data[index_q3-1] + 1.5*IQR\n",
    "\n",
    "# Fourth step: clean data\n",
    "clean_data = []\n",
    "for num in nonzero_data:\n",
    "    if (num<=up_bound) and (num>=low_bound):\n",
    "        clean_data.append(num)\n",
    "print(clean_data)                \n",
    "        \n",
    "\n"
   ]
  },
  {
   "cell_type": "markdown",
   "metadata": {},
   "source": [
    "Now you have your nice clean data, let's analyze it to deduce how bright this star is. \n",
    "- Calculate the mean of your clean data (this gives an estimate of the true value of the brightness)\n",
    "- *Advanced*: calculate the standard deviation of the clean data (see the advanced problem in the lists - if you did that problem you can reuse your code here!). The standard deviation gives us an estimate of the error in our measurement."
   ]
  },
  {
   "cell_type": "code",
   "execution_count": 51,
   "metadata": {},
   "outputs": [
    {
     "name": "stdout",
     "output_type": "stream",
     "text": [
      "98.59700681150002\n"
     ]
    }
   ],
   "source": [
    "N = len(clean_data)  # number of data in list\n",
    "\n",
    "sum = 0             # initialize sum\n",
    "for num in clean_data:\n",
    "    sum = sum + num # sum up all data\n",
    "avg = sum/N         # compute average\n",
    "\n",
    "print(avg)"
   ]
  },
  {
   "cell_type": "code",
   "execution_count": 52,
   "metadata": {},
   "outputs": [
    {
     "name": "stdout",
     "output_type": "stream",
     "text": [
      "8.793061675007301\n"
     ]
    }
   ],
   "source": [
    "dsum = 0;           # initialize sum of differences between data and their mean\n",
    "for num in clean_data:\n",
    "    dsum = dsum + (num-avg)**2  # sum of the differences between data and their mean\n",
    "\n",
    "sigma = (dsum/(N-1))**0.5  # compute standard deviation\n",
    "print(sigma)"
   ]
  },
  {
   "cell_type": "markdown",
   "metadata": {},
   "source": [
    "Or using statistics"
   ]
  },
  {
   "cell_type": "code",
   "execution_count": 49,
   "metadata": {},
   "outputs": [
    {
     "name": "stdout",
     "output_type": "stream",
     "text": [
      "98.5970068115\n",
      "8.7930616750073\n"
     ]
    }
   ],
   "source": [
    "import statistics\n",
    "print(statistics.mean(clean_data))\n",
    "print(statistics.stdev(clean_data))"
   ]
  },
  {
   "cell_type": "markdown",
   "metadata": {},
   "source": [
    "(END)"
   ]
  },
  {
   "cell_type": "code",
   "execution_count": null,
   "metadata": {},
   "outputs": [],
   "source": []
  }
 ],
 "metadata": {
  "kernelspec": {
   "display_name": "Python 3",
   "language": "python",
   "name": "python3"
  },
  "language_info": {
   "codemirror_mode": {
    "name": "ipython",
    "version": 3
   },
   "file_extension": ".py",
   "mimetype": "text/x-python",
   "name": "python",
   "nbconvert_exporter": "python",
   "pygments_lexer": "ipython3",
   "version": "3.8.3"
  }
 },
 "nbformat": 4,
 "nbformat_minor": 4
}
