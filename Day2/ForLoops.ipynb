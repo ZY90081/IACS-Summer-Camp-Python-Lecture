{
 "cells": [
  {
   "cell_type": "markdown",
   "metadata": {},
   "source": [
    "# For Loops"
   ]
  },
  {
   "cell_type": "markdown",
   "metadata": {},
   "source": [
    "We've already talked about one kind of loop, the while loop. These common programming structures allow us to repeat the same instructions over and over again.\n",
    "\n",
    "Now that we've talked about lists and strings, this is a good time to introduce *for loops*. For many coding problems, it's more natural and convenient to use a for loop. This is particularly true in Python, where for loops have some particularly powerful features.\n",
    "\n",
    "Let's review the first while loop we did, which was to print the squares of a sequence of numbers:"
   ]
  },
  {
   "cell_type": "code",
   "execution_count": 3,
   "metadata": {},
   "outputs": [
    {
     "name": "stdout",
     "output_type": "stream",
     "text": [
      "1\n",
      "4\n",
      "9\n",
      "16\n",
      "25\n",
      "36\n",
      "49\n",
      "64\n",
      "81\n",
      "100\n"
     ]
    }
   ],
   "source": [
    "i = 1\n",
    "while i < 11:\n",
    "    print(i**2)\n",
    "    i = i + 1"
   ]
  },
  {
   "cell_type": "markdown",
   "metadata": {},
   "source": [
    "To demonstrate a for loop, let's write one that does the same thing as this while loop. First, let's make a list of the numbers that we want to find the squares of."
   ]
  },
  {
   "cell_type": "code",
   "execution_count": 5,
   "metadata": {},
   "outputs": [],
   "source": [
    "numlist = [1,2,3,4,5,6,7,8,9,10]"
   ]
  },
  {
   "cell_type": "markdown",
   "metadata": {},
   "source": [
    "Now, let's make the for loop:"
   ]
  },
  {
   "cell_type": "code",
   "execution_count": 13,
   "metadata": {},
   "outputs": [
    {
     "name": "stdout",
     "output_type": "stream",
     "text": [
      "1|4|9|16|25|36|49|64|81|100|"
     ]
    }
   ],
   "source": [
    "for a in numlist:\n",
    "    print(a**2, end=\"|\")"
   ]
  },
  {
   "cell_type": "markdown",
   "metadata": {},
   "source": [
    "And we get the same result! Let's take a look at the syntax. When we write `for a in numlist:` we're creating a new variable called `a`, and inside `a`, we store the first element of `numlist` (which is 1). We then execute the indented code in the for loop. At the next iteration of the loop, the value of `a` will be changed to be the next element of `numlist` (in this case, 2). This will continue until `a` takes the value of the last element in `numlist`. Note that the variable name `a` is arbitrary. We could name this variable whatever we want, as long as we're consistent inside the loop. A common convention (and good coding practice to make your code understandable!) is to use a variable name that describes what is inside the list. For this loop, we could have used the variable name `number` since each thing inside `numlist` is a number.\n",
    "\n",
    "In the code above, we made the list of numbers we wanted to square before we made the loop. This wasn't actually necessary: instead, we could have defined the list in the definition of the for loop itself like this:"
   ]
  },
  {
   "cell_type": "code",
   "execution_count": 14,
   "metadata": {},
   "outputs": [
    {
     "name": "stdout",
     "output_type": "stream",
     "text": [
      "1\n",
      "4\n",
      "9\n",
      "16\n",
      "25\n",
      "36\n",
      "49\n",
      "64\n",
      "81\n",
      "100\n"
     ]
    }
   ],
   "source": [
    "for number in [1,2,3,4,5,6,7,8,9,10]:\n",
    "    print(number**2)"
   ]
  },
  {
   "cell_type": "code",
   "execution_count": null,
   "metadata": {},
   "outputs": [],
   "source": []
  },
  {
   "cell_type": "markdown",
   "metadata": {},
   "source": [
    "An alternative to the above is the handy `range` function. Repeating the same action for the numbers 1 through $n$ is so common that Python has a built-in way of creating a list containing just those numbers. So instead of having to type out the numbers 1 to 10 ourselves, we can just use `range(1,11)`: "
   ]
  },
  {
   "cell_type": "code",
   "execution_count": 16,
   "metadata": {},
   "outputs": [
    {
     "ename": "SyntaxError",
     "evalue": "unexpected EOF while parsing (<ipython-input-16-8d334f55d4bb>, line 1)",
     "output_type": "error",
     "traceback": [
      "\u001b[1;36m  File \u001b[1;32m\"<ipython-input-16-8d334f55d4bb>\"\u001b[1;36m, line \u001b[1;32m1\u001b[0m\n\u001b[1;33m    print(list(range(1,11))\u001b[0m\n\u001b[1;37m                           ^\u001b[0m\n\u001b[1;31mSyntaxError\u001b[0m\u001b[1;31m:\u001b[0m unexpected EOF while parsing\n"
     ]
    }
   ],
   "source": []
  },
  {
   "cell_type": "code",
   "execution_count": 20,
   "metadata": {},
   "outputs": [
    {
     "name": "stdout",
     "output_type": "stream",
     "text": [
      "1\n",
      "9\n",
      "25\n",
      "49\n",
      "81\n"
     ]
    }
   ],
   "source": [
    "for number in range(1,11,2):\n",
    "    print(number**2)"
   ]
  },
  {
   "cell_type": "markdown",
   "metadata": {},
   "source": [
    "Note that just like the slices we saw when we looked at lists, `range(1,11)` will return us the numbers from 1 up to *but not including* 11. \n",
    "\n",
    "The `range` function is a very useful tool for making a quick list of integers. If I write `range(n,m)`, the computer will give me the integers from `n` to `m-1`. If I write `range(m)`, the computer will assume that I want to start at 0 and will give me a list of integers from 0 to `m-1`."
   ]
  },
  {
   "cell_type": "markdown",
   "metadata": {},
   "source": [
    "Because Python treats strings as \"lists of characters,\" we can use the same for loop syntax to loop over the characters in a string. For example, here's a while loop that looks at a string, and prints each character in the string individually."
   ]
  },
  {
   "cell_type": "code",
   "execution_count": 21,
   "metadata": {},
   "outputs": [
    {
     "name": "stdout",
     "output_type": "stream",
     "text": [
      "bulldozer"
     ]
    }
   ],
   "source": [
    "mystring = \"bulldozer\"\n",
    "for c in mystring:\n",
    "    print(c,end=\"\")"
   ]
  },
  {
   "cell_type": "markdown",
   "metadata": {},
   "source": [
    "So far, the main difference we've seen between while loops and for loops is that for loops eliminate the need for us to create and update our own counter. However, they're much more powerful than that. Using a for loop, we can easily iterate over multiple things at once. Let's define two lists:"
   ]
  },
  {
   "cell_type": "code",
   "execution_count": 23,
   "metadata": {},
   "outputs": [],
   "source": [
    "colors = [\"red\", \"blue\", \"yellow\", \"green\"]\n",
    "prices = [76, 27, 18, 34]"
   ]
  },
  {
   "cell_type": "markdown",
   "metadata": {},
   "source": [
    "We can iterate over these two lists at the same time using the `zip` function:"
   ]
  },
  {
   "cell_type": "code",
   "execution_count": 26,
   "metadata": {},
   "outputs": [
    {
     "name": "stdout",
     "output_type": "stream",
     "text": [
      "red fabric costs $76 per yard.\n",
      "blue fabric costs $27 per yard.\n",
      "yellow fabric costs $18 per yard.\n",
      "green fabric costs $34 per yard.\n"
     ]
    }
   ],
   "source": [
    "for color, price in zip(colors, prices):\n",
    "    print(color, \" fabric costs $\", price, \" per yard.\",sep=\"\")"
   ]
  },
  {
   "cell_type": "code",
   "execution_count": 18,
   "metadata": {},
   "outputs": [
    {
     "name": "stdout",
     "output_type": "stream",
     "text": [
      "[(0, 'red'), (1, 'blue'), (2, 'yellow'), (3, 'green')]\n"
     ]
    }
   ],
   "source": [
    "print(list(enumerate(colors)))"
   ]
  },
  {
   "cell_type": "markdown",
   "metadata": {},
   "source": [
    "What if we want to iterate over the elements of a list but also need to access the index of the list element? For this we can use `enumerate`:"
   ]
  },
  {
   "cell_type": "code",
   "execution_count": 28,
   "metadata": {},
   "outputs": [
    {
     "name": "stdout",
     "output_type": "stream",
     "text": [
      "red has index 0\n",
      "blue has index 1\n",
      "yellow has index 2\n",
      "green has index 3\n"
     ]
    }
   ],
   "source": [
    "for i, color in enumerate(colors):\n",
    "    print(color, \"has index\", i)"
   ]
  },
  {
   "cell_type": "markdown",
   "metadata": {},
   "source": [
    "## Worked Examples "
   ]
  },
  {
   "cell_type": "markdown",
   "metadata": {},
   "source": [
    "Write a for loop that prints out the integers from 3 to 16"
   ]
  },
  {
   "cell_type": "code",
   "execution_count": 19,
   "metadata": {},
   "outputs": [
    {
     "name": "stdout",
     "output_type": "stream",
     "text": [
      "3\n",
      "4\n",
      "5\n",
      "6\n",
      "7\n",
      "8\n",
      "9\n",
      "10\n",
      "11\n",
      "12\n",
      "13\n",
      "14\n",
      "15\n",
      "16\n"
     ]
    }
   ],
   "source": [
    "for i in range(3,17):   # i is the variable that we'll use, and the range function makes this easy\n",
    "    print(i)            # i is our variable, so print it\n",
    "                        # note: no need to increment i here, because the for loop\n",
    "                        # takes care of this for us"
   ]
  },
  {
   "cell_type": "code",
   "execution_count": 24,
   "metadata": {},
   "outputs": [
    {
     "name": "stdout",
     "output_type": "stream",
     "text": [
      "13579"
     ]
    }
   ],
   "source": [
    "for i in range(1,10,2):\n",
    "    print(i, end='')"
   ]
  },
  {
   "cell_type": "markdown",
   "metadata": {},
   "source": [
    "Write a for loop that 'flips' a list of boolean variables (changes True to False and changes False to True) by creating a new list containing the 'flipped' booleans."
   ]
  },
  {
   "cell_type": "code",
   "execution_count": 29,
   "metadata": {},
   "outputs": [
    {
     "name": "stdout",
     "output_type": "stream",
     "text": [
      "[False, False, True, False, True, True, False]\n"
     ]
    }
   ],
   "source": [
    "bool_list = [True, True, False, True, False, False, True] #example list of booleans\n",
    "\n",
    "# We need to create a new list which will be our answer. However, to create a list, we\n",
    "# need to give it an initial value that won't affect the final answer. Fortunately\n",
    "# Python allows us to create 'empty' lists and then put things into them later.\n",
    "newlist = []\n",
    "\n",
    "for a in bool_list:        # loop over our list of booleans\n",
    "    newlist.append(not a)  # \"not a\" accomplished the 'flipping' of the boolean, then\n",
    "                           # we appended it to our new list\n",
    "print(newlist)             # print our result so we can see if it's correct"
   ]
  },
  {
   "cell_type": "markdown",
   "metadata": {},
   "source": [
    "Write a for loop that loops through a string and converts every other character in the string to an underscore, starting with the second letter."
   ]
  },
  {
   "cell_type": "code",
   "execution_count": 30,
   "metadata": {},
   "outputs": [
    {
     "name": "stdout",
     "output_type": "stream",
     "text": [
      "16\n",
      "I_l_k_ _o_a_o_s_\n"
     ]
    }
   ],
   "source": [
    "mystring = \"I like potatoes.\"\n",
    "\n",
    "print(len(mystring))\n",
    "newstring = \"\"  # an empty string that we can add to later. This is analogous to when\n",
    "                # we initialized a number to 0, or initialized a list to []\n",
    "\n",
    "\n",
    "# Because of the nature of the problem, we need to keep track of the *index* of\n",
    "# the letter in the string that we're currently looking at. This will also come\n",
    "# in handy when we try to edit the characters of the string. The effect of this\n",
    "# style is that we are writing a for loop that behaves very much like a while\n",
    "# loop. This turns out to be quite common. It looks like this:\n",
    "for i in range(len(mystring)):  \n",
    "    # len(mystring) tells us how long mystring is. The range function then\n",
    "    # creates a list of integers that we can use to index into mylist. Our\n",
    "    # variable i will automatically move through these index values.\n",
    "    \n",
    "    # We only want to make a change every other letter, so we need to check\n",
    "    # whether our index is even or odd. Because the first letter we want to\n",
    "    # change is the second letter of the string (which has index 1), we want\n",
    "    # to check that our index is odd.\n",
    "    if i % 2 == 1:\n",
    "        # if i is odd, then we need to add an underscore to our new string\n",
    "        newstring = newstring + \"_\"\n",
    "    else:\n",
    "        # otherwise, we need to simply add the next letter to our new string\n",
    "        newstring = newstring + mystring[i]\n",
    "        \n",
    "print(newstring)"
   ]
  },
  {
   "cell_type": "code",
   "execution_count": 27,
   "metadata": {},
   "outputs": [
    {
     "name": "stdout",
     "output_type": "stream",
     "text": [
      "I_l_k_ _o_a_o_s_\n"
     ]
    }
   ],
   "source": [
    "# Here's the same solution to the above problem, without comments:\n",
    "mystring = \"I like potatoes.\"\n",
    "newstring = \"\"\n",
    "for i in range(len(mystring)):\n",
    "    if i % 2 == 1:\n",
    "        newstring = newstring + \"_\"\n",
    "    else:\n",
    "        newstring = newstring + mystring[i]\n",
    "print(newstring)"
   ]
  },
  {
   "cell_type": "markdown",
   "metadata": {},
   "source": [
    "## Practice Problems"
   ]
  },
  {
   "cell_type": "markdown",
   "metadata": {},
   "source": [
    "Write some code that takes a list of names (as strings), and prints \"Hello \\_\\_\\_\\_\\_\\_!\" for each name in the list."
   ]
  },
  {
   "cell_type": "code",
   "execution_count": 38,
   "metadata": {},
   "outputs": [
    {
     "name": "stdout",
     "output_type": "stream",
     "text": [
      "Hello Billy!\n",
      "Hello Matthew!\n",
      "Hello Shannon!\n",
      "Hello Kristen!\n",
      "Hello Taylor!\n"
     ]
    }
   ],
   "source": [
    "namelist = [\"Billy\", \"Matthew\", \"Shannon\", \"Kristen\", \"Taylor\"]\n",
    "\n",
    "# Your code here\n",
    "for name in namelist:\n",
    "    print('Hello ', name,'!')"
   ]
  },
  {
   "cell_type": "markdown",
   "metadata": {},
   "source": [
    "Write some code that takes creates three variables: a string of any length (named `mystring`, for example), and two more strings, each of length one (named `first_letter` and `second_letter`, for example). Have that cell create a new string that is like the first string, but with each instance of `first_letter` replaced by `second_letter`.\n",
    "\n",
    "For example, using 'peter piper', 'p', and 'g' the cell should print `geter giger`."
   ]
  },
  {
   "cell_type": "code",
   "execution_count": 40,
   "metadata": {},
   "outputs": [
    {
     "name": "stdout",
     "output_type": "stream",
     "text": [
      "geter giger\n"
     ]
    }
   ],
   "source": [
    "mystring = \"peter piper\"\n",
    "first_letter = \"p\"\n",
    "second_letter = \"g\"\n",
    "\n",
    "\n",
    "# Your code here\n",
    "newstring = ''\n",
    "for c in mystring:\n",
    "    if c == first_letter:\n",
    "        newstring = newstring + second_letter\n",
    "    else:\n",
    "        newstring = newstring + c\n",
    "\n",
    "print(newstring)\n",
    "            \n",
    "            \n",
    "        \n",
    "        "
   ]
  },
  {
   "cell_type": "markdown",
   "metadata": {},
   "source": [
    "In the practice problems for the Lists module, we wrote some code that added together all of the numbers in a list of numbers. You probably used a while loop to do this. Write some code that does it with a for loop instead."
   ]
  },
  {
   "cell_type": "code",
   "execution_count": 41,
   "metadata": {},
   "outputs": [
    {
     "name": "stdout",
     "output_type": "stream",
     "text": [
      "55\n"
     ]
    }
   ],
   "source": [
    "list = [1,2,3,4,5,6,7,8,9,10]\n",
    "sum = 0;\n",
    "for num in list:\n",
    "    sum = sum + num\n",
    "    \n",
    "print(sum)    "
   ]
  },
  {
   "cell_type": "markdown",
   "metadata": {},
   "source": [
    "Write some code that takes a string and prints `True` if the string is a palindrome (a word that reads the same backwards as it does forwards, e.g. 'level') and `False` if it is not. Use a for loop. (*Hint*: use both positive and negative indices to look at both ends of the string)"
   ]
  },
  {
   "cell_type": "code",
   "execution_count": 34,
   "metadata": {},
   "outputs": [
    {
     "name": "stdout",
     "output_type": "stream",
     "text": [
      "True\n"
     ]
    }
   ],
   "source": [
    "word = \"level\";\n",
    "L = len(word)\n",
    "flag = 0\n",
    "for i in range(L):\n",
    "    #print(word[i])\n",
    "    #print(word[-i-1])\n",
    "    if word[i]==word[-i-1]:\n",
    "        continue\n",
    "        \n",
    "    else:\n",
    "        print('False')\n",
    "        flag = 1\n",
    "        break\n",
    "        \n",
    "if flag==0:        \n",
    "    print('True')\n",
    "        \n",
    "    \n",
    "    "
   ]
  },
  {
   "cell_type": "markdown",
   "metadata": {},
   "source": [
    "## Advanced Problems"
   ]
  },
  {
   "cell_type": "markdown",
   "metadata": {},
   "source": [
    "*Minimum*: Write some code that takes a list of numbers as input and returns the index of the smallest (most negative) number in the list. For example, given the list [4,7,-5,9,1,-2,6,4], the code would print 2. (*Hint*: If you're having trouble, try first writing some code that finds the minimum *number* itself. For the given example, the answer would be -5. Then modify your solution to instead find the index.)"
   ]
  },
  {
   "cell_type": "code",
   "execution_count": 47,
   "metadata": {},
   "outputs": [
    {
     "name": "stdout",
     "output_type": "stream",
     "text": [
      "(2, -5)\n",
      "(5, -2)\n",
      "(4, 1)\n",
      "(0, 4)\n",
      "(7, 4)\n",
      "(6, 6)\n",
      "(1, 7)\n",
      "(3, 9)\n",
      "2\n"
     ]
    }
   ],
   "source": [
    "numlist = [4,7,-5,9,1,-2,6,4]\n",
    "\n",
    "for i in sorted(enumerate(numlist),key=lambda x: x[1]):\n",
    "    print(i)\n",
    "    \n",
    "newlist = sorted(enumerate(numlist),key=lambda x: x[1])\n",
    "print(newlist[0][0])"
   ]
  },
  {
   "cell_type": "markdown",
   "metadata": {},
   "source": [
    "*Sorting*: Write some code that takes a list of numbers as input and returns a new list that contains the same numbers, but in increasing order (from least to greatest). If you did the problem above, then you can use that function in your solution to this problem. Otherwise, you can use the `.index()` and `min()` functions, as demonstrated in the example below:"
   ]
  },
  {
   "cell_type": "code",
   "execution_count": 48,
   "metadata": {},
   "outputs": [
    {
     "data": {
      "text/plain": [
       "2"
      ]
     },
     "execution_count": 48,
     "metadata": {},
     "output_type": "execute_result"
    }
   ],
   "source": [
    "mylist = [4,7,-5,9,1,-2,6,4]\n",
    "mylist.index(min(mylist))       # min finds the lowest number, and mylist.index() finds \n",
    "                                # the first index of that number"
   ]
  },
  {
   "cell_type": "code",
   "execution_count": 49,
   "metadata": {},
   "outputs": [
    {
     "name": "stdout",
     "output_type": "stream",
     "text": [
      "[-5, -2, 1, 4, 4, 6, 7, 9]\n"
     ]
    }
   ],
   "source": [
    "# You can write your solution to the Sorting problem here:\n",
    "\n",
    "newlist = []\n",
    "for i in sorted(enumerate(numlist),key=lambda x: x[1]):\n",
    "    newlist.append(i[1])\n",
    "    \n",
    "print(newlist)    "
   ]
  },
  {
   "cell_type": "code",
   "execution_count": null,
   "metadata": {},
   "outputs": [],
   "source": []
  }
 ],
 "metadata": {
  "kernelspec": {
   "display_name": "Python 3",
   "language": "python",
   "name": "python3"
  },
  "language_info": {
   "codemirror_mode": {
    "name": "ipython",
    "version": 3
   },
   "file_extension": ".py",
   "mimetype": "text/x-python",
   "name": "python",
   "nbconvert_exporter": "python",
   "pygments_lexer": "ipython3",
   "version": "3.8.3"
  }
 },
 "nbformat": 4,
 "nbformat_minor": 2
}
